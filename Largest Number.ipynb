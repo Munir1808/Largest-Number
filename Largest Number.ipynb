{
 "cells": [
  {
   "cell_type": "code",
   "execution_count": 1,
   "id": "eada0500",
   "metadata": {},
   "outputs": [
    {
     "name": "stdout",
     "output_type": "stream",
     "text": [
      "Enter a numer 5\n",
      "Enter a numer 4\n",
      "num1 is greater\n"
     ]
    }
   ],
   "source": [
    "num1 = int(input(\"Enter a numer \"))\n",
    "num2 = int(input(\"Enter a numer \"))\n",
    "if num1>num2:\n",
    "    print(\"num1 is greater than num2\")\n",
    "elif num2>num1:\n",
    "    print(\"num 2 is greater than num1\")\n",
    "elif num1==num2:\n",
    "    print(\"both numbers are equal\")"
   ]
  }
 ],
 "metadata": {
  "kernelspec": {
   "display_name": "Python 3 (ipykernel)",
   "language": "python",
   "name": "python3"
  },
  "language_info": {
   "codemirror_mode": {
    "name": "ipython",
    "version": 3
   },
   "file_extension": ".py",
   "mimetype": "text/x-python",
   "name": "python",
   "nbconvert_exporter": "python",
   "pygments_lexer": "ipython3",
   "version": "3.11.3"
  }
 },
 "nbformat": 4,
 "nbformat_minor": 5
}
